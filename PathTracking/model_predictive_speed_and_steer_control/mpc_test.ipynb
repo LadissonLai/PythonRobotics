{
 "cells": [
  {
   "cell_type": "code",
   "execution_count": 1,
   "metadata": {},
   "outputs": [
    {
     "data": {
      "text/plain": [
       "1.5707963267948966"
      ]
     },
     "execution_count": 1,
     "metadata": {},
     "output_type": "execute_result"
    }
   ],
   "source": [
    "import numpy as np\n",
    "import math\n",
    "\n",
    "R = np.diag([1.2,2.3,4.2])\n",
    "R\n",
    "speed_profile = [2.0] * 3\n",
    "speed_profile\n",
    "move_direction = math.atan2(1.0, 0.0)\n",
    "move_direction"
   ]
  },
  {
   "cell_type": "code",
   "execution_count": 9,
   "metadata": {},
   "outputs": [
    {
     "name": "stdout",
     "output_type": "stream",
     "text": [
      "[[-0.51202084 -0.26447207 -0.88193734 -0.09781247]\n",
      " [-0.37113883 -0.9446504  -0.04857926 -0.64503919]\n",
      " [ 0.56493048  1.69813349 -0.40286165 -0.94312859]]\n"
     ]
    }
   ],
   "source": [
    "\n",
    "c = np.random.randn(3,4) # 生成标准正态分布。均值为0，方差为1\n",
    "\n",
    "c.shape\n",
    "\n",
    "print(c)\n"
   ]
  },
  {
   "cell_type": "code",
   "execution_count": 11,
   "metadata": {},
   "outputs": [
    {
     "name": "stdout",
     "output_type": "stream",
     "text": [
      "[1.62434536 0.         0.         0.         0.86540763 0.\n",
      " 1.74481176 0.         0.3190391  0.         1.46210794 0.\n",
      " 0.         0.         1.13376944]\n",
      "----\n",
      "\n",
      "The optimal value is -15.220912604404832\n",
      "A solution x is\n",
      "[-1.1015836  -0.16207264 -0.90072437  0.03042621  0.61108486 -1.13141957\n",
      "  1.1270734   0.87833368  0.48871908  0.89807117]\n",
      "A dual solution is\n",
      "[2.45894208e-09 6.11756417e-01 5.28171745e-01 1.07296862e+00\n",
      " 6.38551602e-09 2.30153871e+00 1.12756160e-09 7.61206895e-01\n",
      " 1.31943038e-08 2.49370376e-01 2.02551464e-09 2.06014070e+00\n",
      " 3.22417209e-01 3.84054335e-01 2.94504008e-09]\n"
     ]
    }
   ],
   "source": [
    "# Import packages.\n",
    "import cvxpy as cp\n",
    "import numpy as np\n",
    "\n",
    "# Generate a random non-trivial linear program.\n",
    "m = 15\n",
    "n = 10\n",
    "np.random.seed(1)\n",
    "s0 = np.random.randn(m)\n",
    "lamb0 = np.maximum(-s0, 0)\n",
    "s0 = np.maximum(s0, 0)\n",
    "print(s0)\n",
    "print(\"----\")\n",
    "x0 = np.random.randn(n)\n",
    "A = np.random.randn(m, n)\n",
    "b = A@x0 + s0\n",
    "c = -A.T@lamb0\n",
    "\n",
    "# Define and solve the CVXPY problem.\n",
    "x = cp.Variable(n)\n",
    "prob = cp.Problem(cp.Minimize(c.T@x),\n",
    "                 [A@x <= b])\n",
    "prob.solve()\n",
    "\n",
    "# Print result.\n",
    "print(\"\\nThe optimal value is\", prob.value)\n",
    "print(\"A solution x is\")\n",
    "print(x.value)\n",
    "print(\"A dual solution is\")\n",
    "print(prob.constraints[0].dual_value)"
   ]
  },
  {
   "cell_type": "code",
   "execution_count": 12,
   "metadata": {},
   "outputs": [
    {
     "name": "stdout",
     "output_type": "stream",
     "text": [
      "\n",
      "The optimal value is -284.0\n",
      "A solution x is\n",
      "[3.6 2.8]\n",
      "A dual solution is\n",
      "[12. 14.]\n"
     ]
    }
   ],
   "source": [
    "import numpy as np\n",
    "import cvxpy as cp\n",
    "\n",
    "# paramater\n",
    "c = np.array([-40,-50])\n",
    "A = np.array([\n",
    "    [1,3],\n",
    "    [2,1]\n",
    "])\n",
    "b = np.array([12,10])\n",
    "\n",
    "# cost function\n",
    "x = cp.Variable(c.shape[0])\n",
    "constrains = [A@x <= b]\n",
    "prob = cp.Problem(cp.Minimize(c.T@x), constrains)\n",
    "prob.solve()\n",
    "\n",
    "# result\n",
    "print(\"\\nThe optimal value is\", prob.value)\n",
    "print(\"A solution x is\")\n",
    "print(x.value)\n",
    "print(\"A dual solution is\")\n",
    "print(prob.constraints[0].dual_value)"
   ]
  }
 ],
 "metadata": {
  "kernelspec": {
   "display_name": "robotics",
   "language": "python",
   "name": "python3"
  },
  "language_info": {
   "codemirror_mode": {
    "name": "ipython",
    "version": 3
   },
   "file_extension": ".py",
   "mimetype": "text/x-python",
   "name": "python",
   "nbconvert_exporter": "python",
   "pygments_lexer": "ipython3",
   "version": "3.12.5"
  },
  "orig_nbformat": 4
 },
 "nbformat": 4,
 "nbformat_minor": 2
}
